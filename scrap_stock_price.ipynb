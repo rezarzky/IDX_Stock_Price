{
 "cells": [
  {
   "cell_type": "markdown",
   "metadata": {},
   "source": [
    "## Scraping LQ45 IDX Stock Price using DataReader"
   ]
  },
  {
   "cell_type": "code",
   "execution_count": 1,
   "metadata": {},
   "outputs": [],
   "source": [
    "# import packages\n",
    "from pandas_datareader.data import DataReader\n",
    "import pandas as pd\n",
    "from datetime import date # Date & time functionality\n",
    "import numpy as np"
   ]
  },
  {
   "cell_type": "code",
   "execution_count": 2,
   "metadata": {},
   "outputs": [
    {
     "data": {
      "text/html": [
       "<div>\n",
       "<style scoped>\n",
       "    .dataframe tbody tr th:only-of-type {\n",
       "        vertical-align: middle;\n",
       "    }\n",
       "\n",
       "    .dataframe tbody tr th {\n",
       "        vertical-align: top;\n",
       "    }\n",
       "\n",
       "    .dataframe thead th {\n",
       "        text-align: right;\n",
       "    }\n",
       "</style>\n",
       "<table border=\"1\" class=\"dataframe\">\n",
       "  <thead>\n",
       "    <tr style=\"text-align: right;\">\n",
       "      <th></th>\n",
       "      <th>nama</th>\n",
       "    </tr>\n",
       "  </thead>\n",
       "  <tbody>\n",
       "    <tr>\n",
       "      <th>0</th>\n",
       "      <td>ADHI</td>\n",
       "    </tr>\n",
       "    <tr>\n",
       "      <th>1</th>\n",
       "      <td>ADRO</td>\n",
       "    </tr>\n",
       "    <tr>\n",
       "      <th>2</th>\n",
       "      <td>AKRA</td>\n",
       "    </tr>\n",
       "    <tr>\n",
       "      <th>3</th>\n",
       "      <td>ANTM</td>\n",
       "    </tr>\n",
       "    <tr>\n",
       "      <th>4</th>\n",
       "      <td>ASII</td>\n",
       "    </tr>\n",
       "  </tbody>\n",
       "</table>\n",
       "</div>"
      ],
      "text/plain": [
       "   nama\n",
       "0  ADHI\n",
       "1  ADRO\n",
       "2  AKRA\n",
       "3  ANTM\n",
       "4  ASII"
      ]
     },
     "execution_count": 2,
     "metadata": {},
     "output_type": "execute_result"
    }
   ],
   "source": [
    "# import stock code\n",
    "lq45 = pd.read_csv('lq45.csv', header=None, usecols=[0], names=['nama'])\n",
    "lq45.head()"
   ]
  },
  {
   "cell_type": "code",
   "execution_count": 3,
   "metadata": {},
   "outputs": [
    {
     "data": {
      "text/html": [
       "<div>\n",
       "<style scoped>\n",
       "    .dataframe tbody tr th:only-of-type {\n",
       "        vertical-align: middle;\n",
       "    }\n",
       "\n",
       "    .dataframe tbody tr th {\n",
       "        vertical-align: top;\n",
       "    }\n",
       "\n",
       "    .dataframe thead th {\n",
       "        text-align: right;\n",
       "    }\n",
       "</style>\n",
       "<table border=\"1\" class=\"dataframe\">\n",
       "  <thead>\n",
       "    <tr style=\"text-align: right;\">\n",
       "      <th></th>\n",
       "      <th>nama</th>\n",
       "      <th>IDX</th>\n",
       "    </tr>\n",
       "  </thead>\n",
       "  <tbody>\n",
       "    <tr>\n",
       "      <th>0</th>\n",
       "      <td>ADHI</td>\n",
       "      <td>ADHI.JK</td>\n",
       "    </tr>\n",
       "    <tr>\n",
       "      <th>1</th>\n",
       "      <td>ADRO</td>\n",
       "      <td>ADRO.JK</td>\n",
       "    </tr>\n",
       "    <tr>\n",
       "      <th>2</th>\n",
       "      <td>AKRA</td>\n",
       "      <td>AKRA.JK</td>\n",
       "    </tr>\n",
       "    <tr>\n",
       "      <th>3</th>\n",
       "      <td>ANTM</td>\n",
       "      <td>ANTM.JK</td>\n",
       "    </tr>\n",
       "    <tr>\n",
       "      <th>4</th>\n",
       "      <td>ASII</td>\n",
       "      <td>ASII.JK</td>\n",
       "    </tr>\n",
       "  </tbody>\n",
       "</table>\n",
       "</div>"
      ],
      "text/plain": [
       "   nama      IDX\n",
       "0  ADHI  ADHI.JK\n",
       "1  ADRO  ADRO.JK\n",
       "2  AKRA  AKRA.JK\n",
       "3  ANTM  ANTM.JK\n",
       "4  ASII  ASII.JK"
      ]
     },
     "execution_count": 3,
     "metadata": {},
     "output_type": "execute_result"
    }
   ],
   "source": [
    "# add stock code + .JK\n",
    "lq45[\"IDX\"] = lq45[\"nama\"].map(str) + [\".JK\"]\n",
    "lq45.head()"
   ]
  },
  {
   "cell_type": "code",
   "execution_count": 4,
   "metadata": {},
   "outputs": [],
   "source": [
    "#start and end date\n",
    "start = date(2015, 1, 1) # Default: Jan 1, 2010\n",
    "end = date(2019, 3, 5) # Default: today"
   ]
  },
  {
   "cell_type": "code",
   "execution_count": 5,
   "metadata": {},
   "outputs": [],
   "source": [
    "# Scrap data from Yahoo Finance \n",
    "ticker = lq45['IDX']\n",
    "data_source = 'yahoo'\n",
    "price = []\n",
    "for i in ticker:\n",
    "    data = DataReader(i, data_source, start, end)\n",
    "    data['stock'] = i\n",
    "    price.append(data)"
   ]
  },
  {
   "cell_type": "code",
   "execution_count": 6,
   "metadata": {},
   "outputs": [],
   "source": [
    "# save stock data to csv with '\\' separator and 'utf-8' encoding\n",
    "stock_price = pd.concat(price)\n",
    "stock_price.to_csv('stock_lq45.csv', sep='\\t', encoding='utf-8')"
   ]
  },
  {
   "cell_type": "code",
   "execution_count": 7,
   "metadata": {},
   "outputs": [
    {
     "name": "stdout",
     "output_type": "stream",
     "text": [
      "                   High          Low         Open        Close      Volume  \\\n",
      "Date                                                                         \n",
      "2015-01-02  3041.750000  2944.179932  2952.659912  3033.270020  39706108.0   \n",
      "2015-01-05  3012.060059  2889.030029  3012.060059  2901.760010  43739620.0   \n",
      "2015-01-06  2952.659912  2816.909912  2880.540039  2935.689941  53212005.0   \n",
      "2015-01-07  3041.750000  2935.689941  2935.689941  3033.270020  45694088.0   \n",
      "2015-01-08  3118.110107  3045.989990  3050.239990  3058.719971  57369623.0   \n",
      "\n",
      "              Adj Close    stock  \n",
      "Date                              \n",
      "2015-01-02  2917.462891  ADHI.JK  \n",
      "2015-01-05  2790.973877  ADHI.JK  \n",
      "2015-01-06  2823.608154  ADHI.JK  \n",
      "2015-01-07  2917.462891  ADHI.JK  \n",
      "2015-01-08  2941.941162  ADHI.JK  \n"
     ]
    }
   ],
   "source": [
    "# read data head\n",
    "print(stock_price.head())"
   ]
  },
  {
   "cell_type": "code",
   "execution_count": null,
   "metadata": {},
   "outputs": [],
   "source": []
  }
 ],
 "metadata": {
  "kernelspec": {
   "display_name": "Python 3",
   "language": "python",
   "name": "python3"
  },
  "language_info": {
   "codemirror_mode": {
    "name": "ipython",
    "version": 3
   },
   "file_extension": ".py",
   "mimetype": "text/x-python",
   "name": "python",
   "nbconvert_exporter": "python",
   "pygments_lexer": "ipython3",
   "version": "3.7.1"
  }
 },
 "nbformat": 4,
 "nbformat_minor": 2
}
